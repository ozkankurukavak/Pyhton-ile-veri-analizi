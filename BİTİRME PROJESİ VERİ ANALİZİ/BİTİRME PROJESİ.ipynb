{
 "cells": [
  {
   "cell_type": "code",
   "execution_count": 1,
   "id": "787144f1-982b-4767-9e4f-a7eea74e0391",
   "metadata": {},
   "outputs": [],
   "source": [
    "import pandas as pd\n",
    "import numpy as np\n",
    "import matplotlib.pyplot as plt\n",
    "import seaborn as sns\n",
    "import plotly.express as  px\n",
    "import warnings\n",
    "warnings.filterwarnings(\"ignore\")"
   ]
  },
  {
   "cell_type": "code",
   "execution_count": 2,
   "id": "a714052f-6d61-4e64-a499-09f0ce3b4312",
   "metadata": {},
   "outputs": [
    {
     "data": {
      "text/html": [
       "<div>\n",
       "<style scoped>\n",
       "    .dataframe tbody tr th:only-of-type {\n",
       "        vertical-align: middle;\n",
       "    }\n",
       "\n",
       "    .dataframe tbody tr th {\n",
       "        vertical-align: top;\n",
       "    }\n",
       "\n",
       "    .dataframe thead th {\n",
       "        text-align: right;\n",
       "    }\n",
       "</style>\n",
       "<table border=\"1\" class=\"dataframe\">\n",
       "  <thead>\n",
       "    <tr style=\"text-align: right;\">\n",
       "      <th></th>\n",
       "      <th>CLIENTNUM</th>\n",
       "      <th>Attrition_Flag</th>\n",
       "      <th>Customer_Age</th>\n",
       "      <th>Gender</th>\n",
       "      <th>Dependent_count</th>\n",
       "      <th>Education_Level</th>\n",
       "      <th>Marital_Status</th>\n",
       "      <th>Income_Category</th>\n",
       "      <th>Card_Category</th>\n",
       "      <th>Months_on_book</th>\n",
       "      <th>...</th>\n",
       "      <th>Credit_Limit</th>\n",
       "      <th>Total_Revolving_Bal</th>\n",
       "      <th>Avg_Open_To_Buy</th>\n",
       "      <th>Total_Amt_Chng_Q4_Q1</th>\n",
       "      <th>Total_Trans_Amt</th>\n",
       "      <th>Total_Trans_Ct</th>\n",
       "      <th>Total_Ct_Chng_Q4_Q1</th>\n",
       "      <th>Avg_Utilization_Ratio</th>\n",
       "      <th>Naive_Bayes_Classifier_Attrition_Flag_Card_Category_Contacts_Count_12_mon_Dependent_count_Education_Level_Months_Inactive_12_mon_1</th>\n",
       "      <th>Naive_Bayes_Classifier_Attrition_Flag_Card_Category_Contacts_Count_12_mon_Dependent_count_Education_Level_Months_Inactive_12_mon_2</th>\n",
       "    </tr>\n",
       "  </thead>\n",
       "  <tbody>\n",
       "    <tr>\n",
       "      <th>0</th>\n",
       "      <td>768805383</td>\n",
       "      <td>Existing Customer</td>\n",
       "      <td>45</td>\n",
       "      <td>M</td>\n",
       "      <td>3</td>\n",
       "      <td>High School</td>\n",
       "      <td>Married</td>\n",
       "      <td>$60K - $80K</td>\n",
       "      <td>Blue</td>\n",
       "      <td>39</td>\n",
       "      <td>...</td>\n",
       "      <td>12691.0</td>\n",
       "      <td>777</td>\n",
       "      <td>11914.0</td>\n",
       "      <td>1.335</td>\n",
       "      <td>1144</td>\n",
       "      <td>42</td>\n",
       "      <td>1.625</td>\n",
       "      <td>0.061</td>\n",
       "      <td>0.000093</td>\n",
       "      <td>0.999910</td>\n",
       "    </tr>\n",
       "    <tr>\n",
       "      <th>1</th>\n",
       "      <td>818770008</td>\n",
       "      <td>Existing Customer</td>\n",
       "      <td>49</td>\n",
       "      <td>F</td>\n",
       "      <td>5</td>\n",
       "      <td>Graduate</td>\n",
       "      <td>Single</td>\n",
       "      <td>Less than $40K</td>\n",
       "      <td>Blue</td>\n",
       "      <td>44</td>\n",
       "      <td>...</td>\n",
       "      <td>8256.0</td>\n",
       "      <td>864</td>\n",
       "      <td>7392.0</td>\n",
       "      <td>1.541</td>\n",
       "      <td>1291</td>\n",
       "      <td>33</td>\n",
       "      <td>3.714</td>\n",
       "      <td>0.105</td>\n",
       "      <td>0.000057</td>\n",
       "      <td>0.999940</td>\n",
       "    </tr>\n",
       "    <tr>\n",
       "      <th>2</th>\n",
       "      <td>713982108</td>\n",
       "      <td>Existing Customer</td>\n",
       "      <td>51</td>\n",
       "      <td>M</td>\n",
       "      <td>3</td>\n",
       "      <td>Graduate</td>\n",
       "      <td>Married</td>\n",
       "      <td>$80K - $120K</td>\n",
       "      <td>Blue</td>\n",
       "      <td>36</td>\n",
       "      <td>...</td>\n",
       "      <td>3418.0</td>\n",
       "      <td>0</td>\n",
       "      <td>3418.0</td>\n",
       "      <td>2.594</td>\n",
       "      <td>1887</td>\n",
       "      <td>20</td>\n",
       "      <td>2.333</td>\n",
       "      <td>0.000</td>\n",
       "      <td>0.000021</td>\n",
       "      <td>0.999980</td>\n",
       "    </tr>\n",
       "    <tr>\n",
       "      <th>3</th>\n",
       "      <td>769911858</td>\n",
       "      <td>Existing Customer</td>\n",
       "      <td>40</td>\n",
       "      <td>F</td>\n",
       "      <td>4</td>\n",
       "      <td>High School</td>\n",
       "      <td>Unknown</td>\n",
       "      <td>Less than $40K</td>\n",
       "      <td>Blue</td>\n",
       "      <td>34</td>\n",
       "      <td>...</td>\n",
       "      <td>3313.0</td>\n",
       "      <td>2517</td>\n",
       "      <td>796.0</td>\n",
       "      <td>1.405</td>\n",
       "      <td>1171</td>\n",
       "      <td>20</td>\n",
       "      <td>2.333</td>\n",
       "      <td>0.760</td>\n",
       "      <td>0.000134</td>\n",
       "      <td>0.999870</td>\n",
       "    </tr>\n",
       "    <tr>\n",
       "      <th>4</th>\n",
       "      <td>709106358</td>\n",
       "      <td>Existing Customer</td>\n",
       "      <td>40</td>\n",
       "      <td>M</td>\n",
       "      <td>3</td>\n",
       "      <td>Uneducated</td>\n",
       "      <td>Married</td>\n",
       "      <td>$60K - $80K</td>\n",
       "      <td>Blue</td>\n",
       "      <td>21</td>\n",
       "      <td>...</td>\n",
       "      <td>4716.0</td>\n",
       "      <td>0</td>\n",
       "      <td>4716.0</td>\n",
       "      <td>2.175</td>\n",
       "      <td>816</td>\n",
       "      <td>28</td>\n",
       "      <td>2.500</td>\n",
       "      <td>0.000</td>\n",
       "      <td>0.000022</td>\n",
       "      <td>0.999980</td>\n",
       "    </tr>\n",
       "    <tr>\n",
       "      <th>...</th>\n",
       "      <td>...</td>\n",
       "      <td>...</td>\n",
       "      <td>...</td>\n",
       "      <td>...</td>\n",
       "      <td>...</td>\n",
       "      <td>...</td>\n",
       "      <td>...</td>\n",
       "      <td>...</td>\n",
       "      <td>...</td>\n",
       "      <td>...</td>\n",
       "      <td>...</td>\n",
       "      <td>...</td>\n",
       "      <td>...</td>\n",
       "      <td>...</td>\n",
       "      <td>...</td>\n",
       "      <td>...</td>\n",
       "      <td>...</td>\n",
       "      <td>...</td>\n",
       "      <td>...</td>\n",
       "      <td>...</td>\n",
       "      <td>...</td>\n",
       "    </tr>\n",
       "    <tr>\n",
       "      <th>10122</th>\n",
       "      <td>772366833</td>\n",
       "      <td>Existing Customer</td>\n",
       "      <td>50</td>\n",
       "      <td>M</td>\n",
       "      <td>2</td>\n",
       "      <td>Graduate</td>\n",
       "      <td>Single</td>\n",
       "      <td>$40K - $60K</td>\n",
       "      <td>Blue</td>\n",
       "      <td>40</td>\n",
       "      <td>...</td>\n",
       "      <td>4003.0</td>\n",
       "      <td>1851</td>\n",
       "      <td>2152.0</td>\n",
       "      <td>0.703</td>\n",
       "      <td>15476</td>\n",
       "      <td>117</td>\n",
       "      <td>0.857</td>\n",
       "      <td>0.462</td>\n",
       "      <td>0.000191</td>\n",
       "      <td>0.999810</td>\n",
       "    </tr>\n",
       "    <tr>\n",
       "      <th>10123</th>\n",
       "      <td>710638233</td>\n",
       "      <td>Attrited Customer</td>\n",
       "      <td>41</td>\n",
       "      <td>M</td>\n",
       "      <td>2</td>\n",
       "      <td>Unknown</td>\n",
       "      <td>Divorced</td>\n",
       "      <td>$40K - $60K</td>\n",
       "      <td>Blue</td>\n",
       "      <td>25</td>\n",
       "      <td>...</td>\n",
       "      <td>4277.0</td>\n",
       "      <td>2186</td>\n",
       "      <td>2091.0</td>\n",
       "      <td>0.804</td>\n",
       "      <td>8764</td>\n",
       "      <td>69</td>\n",
       "      <td>0.683</td>\n",
       "      <td>0.511</td>\n",
       "      <td>0.995270</td>\n",
       "      <td>0.004729</td>\n",
       "    </tr>\n",
       "    <tr>\n",
       "      <th>10124</th>\n",
       "      <td>716506083</td>\n",
       "      <td>Attrited Customer</td>\n",
       "      <td>44</td>\n",
       "      <td>F</td>\n",
       "      <td>1</td>\n",
       "      <td>High School</td>\n",
       "      <td>Married</td>\n",
       "      <td>Less than $40K</td>\n",
       "      <td>Blue</td>\n",
       "      <td>36</td>\n",
       "      <td>...</td>\n",
       "      <td>5409.0</td>\n",
       "      <td>0</td>\n",
       "      <td>5409.0</td>\n",
       "      <td>0.819</td>\n",
       "      <td>10291</td>\n",
       "      <td>60</td>\n",
       "      <td>0.818</td>\n",
       "      <td>0.000</td>\n",
       "      <td>0.997880</td>\n",
       "      <td>0.002118</td>\n",
       "    </tr>\n",
       "    <tr>\n",
       "      <th>10125</th>\n",
       "      <td>717406983</td>\n",
       "      <td>Attrited Customer</td>\n",
       "      <td>30</td>\n",
       "      <td>M</td>\n",
       "      <td>2</td>\n",
       "      <td>Graduate</td>\n",
       "      <td>Unknown</td>\n",
       "      <td>$40K - $60K</td>\n",
       "      <td>Blue</td>\n",
       "      <td>36</td>\n",
       "      <td>...</td>\n",
       "      <td>5281.0</td>\n",
       "      <td>0</td>\n",
       "      <td>5281.0</td>\n",
       "      <td>0.535</td>\n",
       "      <td>8395</td>\n",
       "      <td>62</td>\n",
       "      <td>0.722</td>\n",
       "      <td>0.000</td>\n",
       "      <td>0.996710</td>\n",
       "      <td>0.003294</td>\n",
       "    </tr>\n",
       "    <tr>\n",
       "      <th>10126</th>\n",
       "      <td>714337233</td>\n",
       "      <td>Attrited Customer</td>\n",
       "      <td>43</td>\n",
       "      <td>F</td>\n",
       "      <td>2</td>\n",
       "      <td>Graduate</td>\n",
       "      <td>Married</td>\n",
       "      <td>Less than $40K</td>\n",
       "      <td>Silver</td>\n",
       "      <td>25</td>\n",
       "      <td>...</td>\n",
       "      <td>10388.0</td>\n",
       "      <td>1961</td>\n",
       "      <td>8427.0</td>\n",
       "      <td>0.703</td>\n",
       "      <td>10294</td>\n",
       "      <td>61</td>\n",
       "      <td>0.649</td>\n",
       "      <td>0.189</td>\n",
       "      <td>0.996620</td>\n",
       "      <td>0.003377</td>\n",
       "    </tr>\n",
       "  </tbody>\n",
       "</table>\n",
       "<p>10127 rows × 23 columns</p>\n",
       "</div>"
      ],
      "text/plain": [
       "       CLIENTNUM     Attrition_Flag  Customer_Age Gender  Dependent_count  \\\n",
       "0      768805383  Existing Customer            45      M                3   \n",
       "1      818770008  Existing Customer            49      F                5   \n",
       "2      713982108  Existing Customer            51      M                3   \n",
       "3      769911858  Existing Customer            40      F                4   \n",
       "4      709106358  Existing Customer            40      M                3   \n",
       "...          ...                ...           ...    ...              ...   \n",
       "10122  772366833  Existing Customer            50      M                2   \n",
       "10123  710638233  Attrited Customer            41      M                2   \n",
       "10124  716506083  Attrited Customer            44      F                1   \n",
       "10125  717406983  Attrited Customer            30      M                2   \n",
       "10126  714337233  Attrited Customer            43      F                2   \n",
       "\n",
       "      Education_Level Marital_Status Income_Category Card_Category  \\\n",
       "0         High School        Married     $60K - $80K          Blue   \n",
       "1            Graduate         Single  Less than $40K          Blue   \n",
       "2            Graduate        Married    $80K - $120K          Blue   \n",
       "3         High School        Unknown  Less than $40K          Blue   \n",
       "4          Uneducated        Married     $60K - $80K          Blue   \n",
       "...               ...            ...             ...           ...   \n",
       "10122        Graduate         Single     $40K - $60K          Blue   \n",
       "10123         Unknown       Divorced     $40K - $60K          Blue   \n",
       "10124     High School        Married  Less than $40K          Blue   \n",
       "10125        Graduate        Unknown     $40K - $60K          Blue   \n",
       "10126        Graduate        Married  Less than $40K        Silver   \n",
       "\n",
       "       Months_on_book  ...  Credit_Limit  Total_Revolving_Bal  \\\n",
       "0                  39  ...       12691.0                  777   \n",
       "1                  44  ...        8256.0                  864   \n",
       "2                  36  ...        3418.0                    0   \n",
       "3                  34  ...        3313.0                 2517   \n",
       "4                  21  ...        4716.0                    0   \n",
       "...               ...  ...           ...                  ...   \n",
       "10122              40  ...        4003.0                 1851   \n",
       "10123              25  ...        4277.0                 2186   \n",
       "10124              36  ...        5409.0                    0   \n",
       "10125              36  ...        5281.0                    0   \n",
       "10126              25  ...       10388.0                 1961   \n",
       "\n",
       "       Avg_Open_To_Buy  Total_Amt_Chng_Q4_Q1  Total_Trans_Amt  Total_Trans_Ct  \\\n",
       "0              11914.0                 1.335             1144              42   \n",
       "1               7392.0                 1.541             1291              33   \n",
       "2               3418.0                 2.594             1887              20   \n",
       "3                796.0                 1.405             1171              20   \n",
       "4               4716.0                 2.175              816              28   \n",
       "...                ...                   ...              ...             ...   \n",
       "10122           2152.0                 0.703            15476             117   \n",
       "10123           2091.0                 0.804             8764              69   \n",
       "10124           5409.0                 0.819            10291              60   \n",
       "10125           5281.0                 0.535             8395              62   \n",
       "10126           8427.0                 0.703            10294              61   \n",
       "\n",
       "       Total_Ct_Chng_Q4_Q1  Avg_Utilization_Ratio  \\\n",
       "0                    1.625                  0.061   \n",
       "1                    3.714                  0.105   \n",
       "2                    2.333                  0.000   \n",
       "3                    2.333                  0.760   \n",
       "4                    2.500                  0.000   \n",
       "...                    ...                    ...   \n",
       "10122                0.857                  0.462   \n",
       "10123                0.683                  0.511   \n",
       "10124                0.818                  0.000   \n",
       "10125                0.722                  0.000   \n",
       "10126                0.649                  0.189   \n",
       "\n",
       "       Naive_Bayes_Classifier_Attrition_Flag_Card_Category_Contacts_Count_12_mon_Dependent_count_Education_Level_Months_Inactive_12_mon_1  \\\n",
       "0                                               0.000093                                                                                    \n",
       "1                                               0.000057                                                                                    \n",
       "2                                               0.000021                                                                                    \n",
       "3                                               0.000134                                                                                    \n",
       "4                                               0.000022                                                                                    \n",
       "...                                                  ...                                                                                    \n",
       "10122                                           0.000191                                                                                    \n",
       "10123                                           0.995270                                                                                    \n",
       "10124                                           0.997880                                                                                    \n",
       "10125                                           0.996710                                                                                    \n",
       "10126                                           0.996620                                                                                    \n",
       "\n",
       "       Naive_Bayes_Classifier_Attrition_Flag_Card_Category_Contacts_Count_12_mon_Dependent_count_Education_Level_Months_Inactive_12_mon_2  \n",
       "0                                               0.999910                                                                                   \n",
       "1                                               0.999940                                                                                   \n",
       "2                                               0.999980                                                                                   \n",
       "3                                               0.999870                                                                                   \n",
       "4                                               0.999980                                                                                   \n",
       "...                                                  ...                                                                                   \n",
       "10122                                           0.999810                                                                                   \n",
       "10123                                           0.004729                                                                                   \n",
       "10124                                           0.002118                                                                                   \n",
       "10125                                           0.003294                                                                                   \n",
       "10126                                           0.003377                                                                                   \n",
       "\n",
       "[10127 rows x 23 columns]"
      ]
     },
     "execution_count": 2,
     "metadata": {},
     "output_type": "execute_result"
    }
   ],
   "source": [
    "df = pd.read_csv(\"BankChurners.csv\")\n",
    "df"
   ]
  },
  {
   "cell_type": "code",
   "execution_count": 3,
   "id": "ed797986-cfc9-49d1-a8bf-1ba65b52904e",
   "metadata": {},
   "outputs": [
    {
     "data": {
      "text/plain": [
       "(10127, 23)"
      ]
     },
     "execution_count": 3,
     "metadata": {},
     "output_type": "execute_result"
    }
   ],
   "source": [
    "df.shape   # Veri setimizin kaç satır kaç sütun olduğuna bakalım."
   ]
  },
  {
   "cell_type": "code",
   "execution_count": 4,
   "id": "53415e9e-9f49-4d20-ab2a-a8ead47826fa",
   "metadata": {},
   "outputs": [
    {
     "data": {
      "text/plain": [
       "Index(['CLIENTNUM', 'Attrition_Flag', 'Customer_Age', 'Gender',\n",
       "       'Dependent_count', 'Education_Level', 'Marital_Status',\n",
       "       'Income_Category', 'Card_Category', 'Months_on_book',\n",
       "       'Total_Relationship_Count', 'Months_Inactive_12_mon',\n",
       "       'Contacts_Count_12_mon', 'Credit_Limit', 'Total_Revolving_Bal',\n",
       "       'Avg_Open_To_Buy', 'Total_Amt_Chng_Q4_Q1', 'Total_Trans_Amt',\n",
       "       'Total_Trans_Ct', 'Total_Ct_Chng_Q4_Q1', 'Avg_Utilization_Ratio',\n",
       "       'Naive_Bayes_Classifier_Attrition_Flag_Card_Category_Contacts_Count_12_mon_Dependent_count_Education_Level_Months_Inactive_12_mon_1',\n",
       "       'Naive_Bayes_Classifier_Attrition_Flag_Card_Category_Contacts_Count_12_mon_Dependent_count_Education_Level_Months_Inactive_12_mon_2'],\n",
       "      dtype='object')"
      ]
     },
     "execution_count": 4,
     "metadata": {},
     "output_type": "execute_result"
    }
   ],
   "source": [
    "df.columns  # Veri setimizin sütun başlıklarına (columns) bakalım."
   ]
  },
  {
   "cell_type": "markdown",
   "id": "58f592c9-35f7-454d-821b-2f08495524eb",
   "metadata": {},
   "source": [
    "\r\n",
    "\r\n",
    "- `CLIENTNUM`: Müşteri Numarası\r\n",
    "- `Attrition_Flag`: Ayrılma Bayrağı (Müşteri'nin Ayrılma Durumu)\r\n",
    "- `Customer_Age`: Müşteri Yaşı\r\n",
    "- `Gender`: Cinsiyet\r\n",
    "- `Dependent_count`: Bakmakla Yükümlü Olduğu Kişi Sayısı\r\n",
    "- `Education_Level`: Eğitim Seviyesi\r\n",
    "- `Marital_Status`: Medeni Durum\r\n",
    "- `Income_Category`: Gelir Kategorisi\r\n",
    "- `Card_Category`: Kart Kategorisi\r\n",
    "- `Months_on_book`: Kitapta Geçirilen Ay Sayısı\r\n",
    "- `Total_Relationship_Count`: Toplam İlişki Sayısı\r\n",
    "- `Months_Inactive_12_`: Son 12 Ayda Pasif Olunan Ay Sayısı\r\n",
    "- `Contacts_Count_12_mon`: Son 12 Ayda İletişim Sayısı\r\n",
    "- `Credit_Limit`: Kredi Limiti\r\n",
    "- `Total_Revolving_Bal`: Toplam Dönüşen Bakiye\r\n",
    "- `Avg_Open_To_Buy`: Ortalama Kullanılabilir Limit\r\n",
    "- `Total_Amt_Chng_Q4_Q1`: Toplam Miktar Değişim Oranı (Son Çeyrekten İlk Çeyreğe)\r\n",
    "- `Total_Trans_Amt`: Toplam İşlem Tutarı\r\n",
    "- `Total_Trans_Ct`: Toplam İşlem Sayısı\r\n",
    "- `Total_Ct_Chng_Q4_Q1`: Toplam İşlem Değişim Oranı (Son Çeyrekten İlk Çeyreğe)\r\n",
    "- `Avg_Utilization_Ratio`: Ortalama Kullanım Oranırtalama Kullanım Oranı2_mon_2'"
   ]
  },
  {
   "cell_type": "code",
   "execution_count": 5,
   "id": "ecc29b9d-3e9c-4506-9a66-46d17bbc7867",
   "metadata": {},
   "outputs": [],
   "source": [
    "df.drop([\"Naive_Bayes_Classifier_Attrition_Flag_Card_Category_Contacts_Count_12_mon_Dependent_count_Education_Level_Months_Inactive_12_mon_1\",\n",
    "         \"Naive_Bayes_Classifier_Attrition_Flag_Card_Category_Contacts_Count_12_mon_Dependent_count_Education_Level_Months_Inactive_12_mon_2\"], \n",
    "        axis=1, \n",
    "        inplace=True)\n",
    "# Silinmesi gereken sütunları silelim.axis=1: SÜTUNLAR ÜZERİNDE İŞLEM YAPAR.İnplace=işlemin veri setinin üzerinde kalıcı haline gelmesini sağlar."
   ]
  },
  {
   "cell_type": "code",
   "execution_count": 6,
   "id": "3e5f7d18-dd19-4850-b48f-d4cf31121280",
   "metadata": {},
   "outputs": [
    {
     "name": "stdout",
     "output_type": "stream",
     "text": [
      "<class 'pandas.core.frame.DataFrame'>\n",
      "RangeIndex: 10127 entries, 0 to 10126\n",
      "Data columns (total 21 columns):\n",
      " #   Column                    Non-Null Count  Dtype  \n",
      "---  ------                    --------------  -----  \n",
      " 0   CLIENTNUM                 10127 non-null  int64  \n",
      " 1   Attrition_Flag            10127 non-null  object \n",
      " 2   Customer_Age              10127 non-null  int64  \n",
      " 3   Gender                    10127 non-null  object \n",
      " 4   Dependent_count           10127 non-null  int64  \n",
      " 5   Education_Level           10127 non-null  object \n",
      " 6   Marital_Status            10127 non-null  object \n",
      " 7   Income_Category           10127 non-null  object \n",
      " 8   Card_Category             10127 non-null  object \n",
      " 9   Months_on_book            10127 non-null  int64  \n",
      " 10  Total_Relationship_Count  10127 non-null  int64  \n",
      " 11  Months_Inactive_12_mon    10127 non-null  int64  \n",
      " 12  Contacts_Count_12_mon     10127 non-null  int64  \n",
      " 13  Credit_Limit              10127 non-null  float64\n",
      " 14  Total_Revolving_Bal       10127 non-null  int64  \n",
      " 15  Avg_Open_To_Buy           10127 non-null  float64\n",
      " 16  Total_Amt_Chng_Q4_Q1      10127 non-null  float64\n",
      " 17  Total_Trans_Amt           10127 non-null  int64  \n",
      " 18  Total_Trans_Ct            10127 non-null  int64  \n",
      " 19  Total_Ct_Chng_Q4_Q1       10127 non-null  float64\n",
      " 20  Avg_Utilization_Ratio     10127 non-null  float64\n",
      "dtypes: float64(5), int64(10), object(6)\n",
      "memory usage: 1.6+ MB\n"
     ]
    }
   ],
   "source": [
    "df.info()  # info ile veri setimizin boş satırlarına ve veri tiplerini,indexlerin kaçtan başlayıp kaça kadar gittiği gibi bilgileri görebiliriz."
   ]
  },
  {
   "cell_type": "code",
   "execution_count": 7,
   "id": "5120952b-c303-43ea-bfc8-80c93a1a0d6e",
   "metadata": {},
   "outputs": [
    {
     "data": {
      "text/plain": [
       "CLIENTNUM                   0\n",
       "Attrition_Flag              0\n",
       "Customer_Age                0\n",
       "Gender                      0\n",
       "Dependent_count             0\n",
       "Education_Level             0\n",
       "Marital_Status              0\n",
       "Income_Category             0\n",
       "Card_Category               0\n",
       "Months_on_book              0\n",
       "Total_Relationship_Count    0\n",
       "Months_Inactive_12_mon      0\n",
       "Contacts_Count_12_mon       0\n",
       "Credit_Limit                0\n",
       "Total_Revolving_Bal         0\n",
       "Avg_Open_To_Buy             0\n",
       "Total_Amt_Chng_Q4_Q1        0\n",
       "Total_Trans_Amt             0\n",
       "Total_Trans_Ct              0\n",
       "Total_Ct_Chng_Q4_Q1         0\n",
       "Avg_Utilization_Ratio       0\n",
       "dtype: int64"
      ]
     },
     "execution_count": 7,
     "metadata": {},
     "output_type": "execute_result"
    }
   ],
   "source": [
    "df.isnull().sum()  # veri setimizin her sütunda kaçtane eksik değer olduğunu ve sum ile bunların toplamını görmüş oluruz."
   ]
  },
  {
   "cell_type": "markdown",
   "id": "53873f89-53bb-4f2f-9717-5a1ca718b66d",
   "metadata": {},
   "source": [
    "**CİNSİYETE GÖRE DAĞILIM (Gender Distribution) GRUPLAMA VE GÖRSELLEŞTİRME:**"
   ]
  },
  {
   "cell_type": "code",
   "execution_count": 8,
   "id": "e6e33d22-5097-49c3-ad25-faedfe63c1ea",
   "metadata": {},
   "outputs": [
    {
     "data": {
      "text/plain": [
       "RangeIndex(start=0, stop=10127, step=1)"
      ]
     },
     "execution_count": 8,
     "metadata": {},
     "output_type": "execute_result"
    }
   ],
   "source": [
    "df[\"Gender\"].index  # Burada index methodu ile Gender sütununun ındex sırasını görmüş olduk 0 dan baslayıp 10127 ye 1 er artarak devam etmiş."
   ]
  },
  {
   "cell_type": "code",
   "execution_count": 9,
   "id": "6a32cc9b-9599-4b13-b983-fb8cb239d632",
   "metadata": {},
   "outputs": [
    {
     "data": {
      "text/plain": [
       "Gender\n",
       "F    5358\n",
       "M    4769\n",
       "Name: count, dtype: int64"
      ]
     },
     "execution_count": 9,
     "metadata": {},
     "output_type": "execute_result"
    }
   ],
   "source": [
    "gender_counts = df[\"Gender\"].value_counts()\n",
    "gender_counts\n",
    "\n",
    "# burada Gender sütununda her eşsiz değerin kaç kez geçtiğini gösterir.2 eşsiz değer var F ve M.Bunların kaçkez geçtiğini görebiliyoruz."
   ]
  },
  {
   "cell_type": "code",
   "execution_count": 10,
   "id": "7c9b87d3-afc5-44a5-a349-df5e47791dce",
   "metadata": {},
   "outputs": [
    {
     "data": {
      "text/plain": [
       "Index(['F', 'M'], dtype='object', name='Gender')"
      ]
     },
     "execution_count": 10,
     "metadata": {},
     "output_type": "execute_result"
    }
   ],
   "source": [
    "gender_counts.index # burda index durumunda olan argümanlarımız Kadın ve Erkek..."
   ]
  },
  {
   "cell_type": "code",
   "execution_count": 11,
   "id": "b036f6b3-ea58-4bdf-a469-19b925460358",
   "metadata": {},
   "outputs": [
    {
     "data": {
      "text/plain": [
       "array([5358, 4769], dtype=int64)"
      ]
     },
     "execution_count": 11,
     "metadata": {},
     "output_type": "execute_result"
    }
   ],
   "source": [
    "gender_counts.values  # aslında value_counts() ile aynı işlevi yapar.Sadece numpy dizisi olarak değerlerin kaç kez geçtiğini gösterir.."
   ]
  },
  {
   "cell_type": "markdown",
   "id": "2aa555fb-3da0-4c1a-8c5e-19f891e538cd",
   "metadata": {},
   "source": [
    "**NOT**: Burda gender_counts.index dediğimiz zaman index durumunda olan argümanları görüyoruz gender_counts.values dediğimizde aslında bu key lerin karşılığı \n",
    "olan değerleri görüyoruz.."
   ]
  },
  {
   "cell_type": "code",
   "execution_count": 12,
   "id": "1e0270fd-2577-4e3c-8ef0-3eb20e727b5c",
   "metadata": {},
   "outputs": [
    {
     "data": {
      "image/png": "[encoded data removed]",
      "text/plain": [
       "<Figure size 600x400 with 1 Axes>"
      ]
     },
     "metadata": {},
     "output_type": "display_data"
    }
   ],
   "source": [
    "plt.figure(figsize = (6,4))\n",
    "ax = sns.barplot(x = gender_counts.index , y = gender_counts.values, palette = \"viridis\")\n",
    "for i,j in enumerate(gender_counts.values):\n",
    " ax.text(i, j + 0.5, str(j), ha=\"center\", va=\"bottom\")   \n",
    "plt.title(\"Cinsiyete göre dağılım\")\n",
    "plt.xlabel(\"Cinsiyet\")\n",
    "plt.ylabel(\"Müşteri sayısı\")\n",
    "plt.show()\n",
    "\n",
    "# seaborn kütüphanesinden barplot (cubuk grafiği) çizdiriyoruz.X eksenine gender_counts.indexleri yani M ve F gelecek. \n",
    "# y eksenine ise gender_counts.values değerini veriyoruz yani F,M karşılığı kaçkez geçtiğini veriyoruz.Renk olarak palette = viridis veriyoruz.\n",
    "# bu görselleştirmede cinsiyete göre dağılım grafiğini görüyoruz.Erkek ve Kadın değerlerinin birbiri karşısındaki dağılımlarını görüyoruz."
   ]
  },
  {
   "cell_type": "markdown",
   "id": "d4962daf-08bc-4586-a9d3-0de5a8a6d34a",
   "metadata": {},
   "source": [
    "**Burda Erkek ve Kadın Müşteri oranlarını görüyoruz ve sonuç olarak kadın müşterilerin erkek müşterilere göre oran olarak daha fazla olduğunu görselleştirmiş olduk.**"
   ]
  },
  {
   "cell_type": "markdown",
   "id": "bf4334ce-4016-4513-a11c-271238ce5980",
   "metadata": {},
   "source": [
    "**EĞİTİM SEVİYESİNE GÖRE DAĞILIM (Education Level Distribution) GRUPLAMA VE GÖRSELLEŞTİRME:**"
   ]
  },
  {
   "cell_type": "code",
   "execution_count": 13,
   "id": "6d8c0f92-5cb1-418f-800d-e07cda4dabc5",
   "metadata": {},
   "outputs": [
    {
     "data": {
      "text/plain": [
       "Education_Level\n",
       "Graduate         3128\n",
       "High School      2013\n",
       "Unknown          1519\n",
       "Uneducated       1487\n",
       "College          1013\n",
       "Post-Graduate     516\n",
       "Doctorate         451\n",
       "Name: count, dtype: int64"
      ]
     },
     "execution_count": 13,
     "metadata": {},
     "output_type": "execute_result"
    }
   ],
   "source": [
    "education_counts = df[\"Education_Level\"].value_counts()\n",
    "education_counts\n",
    "\n",
    "# Burada Education_Level sütununda öğrenim durumlarının sayısını görmüş oluyoruz"
   ]
  },
  {
   "cell_type": "code",
   "execution_count": 14,
   "id": "f282f1d7-d5d6-4a37-821f-48512b862c52",
   "metadata": {},
   "outputs": [
    {
     "data": {
      "text/plain": [
       "Index(['Graduate', 'High School', 'Unknown', 'Uneducated', 'College',\n",
       "       'Post-Graduate', 'Doctorate'],\n",
       "      dtype='object', name='Education_Level')"
      ]
     },
     "execution_count": 14,
     "metadata": {},
     "output_type": "execute_result"
    }
   ],
   "source": [
    "education_counts.index\n",
    "\n",
    "# Burada Education_Level sütunundaki index değerlerini görmüş olduk.\n",
    "# NOT: education_counts_sorted = df[\"Education_Level\"].value_counts().sort_index() bu method indexleri 0,1,2 sıralı şekilde ayarlamak için kullanılır."
   ]
  },
  {
   "cell_type": "code",
   "execution_count": 15,
   "id": "f2dce67d-acd0-4e2a-a9ea-cae39f8bcc9c",
   "metadata": {},
   "outputs": [
    {
     "data": {
      "text/plain": [
       "array([3128, 2013, 1519, 1487, 1013,  516,  451], dtype=int64)"
      ]
     },
     "execution_count": 15,
     "metadata": {},
     "output_type": "execute_result"
    }
   ],
   "source": [
    "education_counts.values # aslında value_counts() ile aynı işlevi yapar.Sadece numpy dizisi olarak değerlerin kaç kez geçtiğini gösterir.."
   ]
  },
  {
   "cell_type": "code",
   "execution_count": 16,
   "id": "00454324-8671-4e3e-b572-3fda3b04eba4",
   "metadata": {},
   "outputs": [
    {
     "data": {
      "image/png": "[encoded data removed]",
      "text/plain": [
       "<Figure size 800x600 with 1 Axes>"
      ]
     },
     "metadata": {},
     "output_type": "display_data"
    }
   ],
   "source": [
    "plt.figure(figsize = (8,6))\n",
    "ax = sns.barplot(x=education_counts.index , y=education_counts.values, palette = \"viridis\")\n",
    "for i,j in enumerate(education_counts.values):\n",
    "    ax.text(i,j + 0.5, str(j),ha=\"center\", va=\"bottom\" )\n",
    "plt.title(\"Eğitim Seviyesine Göre Dağılım\")\n",
    "plt.xlabel(\"Eğitim Türü\")\n",
    "plt.ylabel(\"Müşteri Sayısı\")\n",
    "plt.show()\n",
    "\n",
    "\n",
    "# Burda seaborn ve matplotlib kütüphanelerini kullanarak eğitim seviyesine göre dağılım oranlarını gördük\n",
    "# burda for döngüsü ile müşteri sayılarını barların üzerine yazdırdık.\n",
    "# FOR DÖNGÜSÜ AÇIKLAMASI:\n",
    "# enumerate(education_counts.values) ile education_counts serisinin her bir değeri (j) ve bunların indisleri (i) sırayla alınır.\n",
    "# ax.text(i, j + 0.5, str(j), ha=\"center\", va=\"bottom\") ile her bir çubuğun üzerine (i, j + 0.5) koordinatlarına, str(j) değeri eklenir.\n",
    "# ha=\"center\" ve va=\"bottom\" parametreleri ile metin, yatayda ortalanır ve çubuğun altına yerleştirilir."
   ]
  },
  {
   "cell_type": "markdown",
   "id": "53fcd88f-1d85-4496-8c94-c7179f39054a",
   "metadata": {},
   "source": [
    "**Burada**\n",
    "\n",
    "- Lisans Mezunu Müşteri Sayısı =3128\n",
    "\n",
    "- Lise Mezunu Müşteri Sayısı =2013\n",
    "\n",
    "- Eğitimi Bilinmeyen Müşteri sayısı =1519\n",
    "\n",
    "- Eğitimsiz Müşteri Sayısı = 1487\n",
    "\n",
    "- Kolej Mezunu Müşteri Sayısı = 1013\n",
    "\n",
    "- Yüksek Lisans Mezunu Müşteri Sayısı = 516\n",
    "\n",
    "- Doktora Mezunu Müşteri Sayısı = 451 \n",
    "\n",
    "**olduğunu gözlemliyoruz...**"
   ]
  },
  {
   "cell_type": "markdown",
   "id": "435603dd-c03d-4917-a31c-bf31674ccd54",
   "metadata": {},
   "source": [
    "**KAYBETME ORANINA GÖRE (Attrition Flag) GRUPLAMA VE GÖRSELLEŞTİRME**\r\n"
   ]
  },
  {
   "cell_type": "code",
   "execution_count": 17,
   "id": "77b246a7-40e1-476f-b01f-61a3eaa8a702",
   "metadata": {},
   "outputs": [
    {
     "data": {
      "text/plain": [
       "Attrition_Flag\n",
       "Existing Customer    8500\n",
       "Attrited Customer    1627\n",
       "Name: count, dtype: int64"
      ]
     },
     "execution_count": 17,
     "metadata": {},
     "output_type": "execute_result"
    }
   ],
   "source": [
    "atrittion_counts = df[\"Attrition_Flag\"].value_counts()\n",
    "atrittion_counts"
   ]
  },
  {
   "cell_type": "code",
   "execution_count": 18,
   "id": "2fbb4964-7b0d-4a11-880d-0c4f9fb86ed4",
   "metadata": {},
   "outputs": [
    {
     "data": {
      "text/plain": [
       "Index(['Existing Customer', 'Attrited Customer'], dtype='object', name='Attrition_Flag')"
      ]
     },
     "execution_count": 18,
     "metadata": {},
     "output_type": "execute_result"
    }
   ],
   "source": [
    "atrittion_counts.index"
   ]
  },
  {
   "cell_type": "code",
   "execution_count": 19,
   "id": "a3e0cd45-aea0-4203-bb33-a93b434ced43",
   "metadata": {},
   "outputs": [
    {
     "data": {
      "image/png": "[encoded data removed]",
      "text/plain": [
       "<Figure size 800x600 with 1 Axes>"
      ]
     },
     "metadata": {},
     "output_type": "display_data"
    }
   ],
   "source": [
    "plt.figure(figsize=(8,6))\n",
    "ax = sns.barplot(x=atrittion_counts.index, y=atrittion_counts, palette = \"viridis\")\n",
    "for i,j in enumerate(atrittion_counts):\n",
    "    ax.text(i,j + 0.5, str(j), ha=\"center\", va=\"bottom\")\n",
    "plt.title(\"Kayıp Oranı Dağılım\")\n",
    "plt.xlabel(\"Yıpranma Bayrağı\")\n",
    "plt.ylabel(\"Yıpranma Bayrak Dağılımı\")\n",
    "plt.show()"
   ]
  },
  {
   "cell_type": "markdown",
   "id": "b0a1ebb0-7660-4e26-9100-24ecd5ad0111",
   "metadata": {},
   "source": [
    "**YAŞ DAĞILIMINA GÖRE  (Age Distribution) GRUPLAMA VE GÖRSELLEŞTİRME**"
   ]
  },
  {
   "cell_type": "code",
   "execution_count": 23,
   "id": "5d69d41a-efa6-44be-bcd5-e7c0f0a357f7",
   "metadata": {},
   "outputs": [
    {
     "data": {
      "text/plain": [
       "Customer_Age\n",
       "44    500\n",
       "49    495\n",
       "46    490\n",
       "45    486\n",
       "47    479\n",
       "43    473\n",
       "48    472\n",
       "50    452\n",
       "42    426\n",
       "51    398\n",
       "53    387\n",
       "41    379\n",
       "52    376\n",
       "40    361\n",
       "39    333\n",
       "54    307\n",
       "38    303\n",
       "55    279\n",
       "56    262\n",
       "37    260\n",
       "57    223\n",
       "36    221\n",
       "35    184\n",
       "59    157\n",
       "58    157\n",
       "34    146\n",
       "33    127\n",
       "60    127\n",
       "32    106\n",
       "65    101\n",
       "61     93\n",
       "62     93\n",
       "31     91\n",
       "26     78\n",
       "30     70\n",
       "63     65\n",
       "29     56\n",
       "64     43\n",
       "27     32\n",
       "28     29\n",
       "67      4\n",
       "66      2\n",
       "68      2\n",
       "70      1\n",
       "73      1\n",
       "Name: count, dtype: int64"
      ]
     },
     "execution_count": 23,
     "metadata": {},
     "output_type": "execute_result"
    }
   ],
   "source": [
    "age_counts = df[\"Customer_Age\"].value_counts()\n",
    "age_counts\n",
    "# sort_index(): Bu sayımları yaşlara göre artan sırada sıralar."
   ]
  },
  {
   "cell_type": "code",
   "execution_count": null,
   "id": "23013fd6-d5ee-4fa8-adbc-70bdb843be7a",
   "metadata": {},
   "outputs": [],
   "source": [
    "plt.figure(figsize = (12,8))\n",
    "ax = sns.barplot(x =age_counts.index, y= age_counts.values, palette=\"viridis\")\n",
    "for i,j in enumerate(age_counts.values):\n",
    "    ax.text(i,j + 0.5, str(j), ha = \"center\", va = \"bottom\")\n",
    "plt.title(\"Yaş Dağılımı\")\n",
    "plt.xlabel(\"Yaş\")\n",
    "plt.ylabel(\"Müşteri Sayısı\")\n",
    "plt.show()"
   ]
  },
  {
   "cell_type": "markdown",
   "id": "a981f8cc-2e50-44a6-9431-6dd479c37fbe",
   "metadata": {},
   "source": [
    "**Burada yaşlara göre müşteri oranlarını görüyoruz daha çok 32 ile 60 yaş arası**"
   ]
  },
  {
   "cell_type": "markdown",
   "id": "4727253e-7a4c-45a4-b046-f4e66026b9df",
   "metadata": {},
   "source": [
    "**GELİR KATEGORİSİNE GÖRE  (Income Category Distribution) GRUPLAMA VE GÖRSELLEŞTİRME**"
   ]
  },
  {
   "cell_type": "code",
   "execution_count": null,
   "id": "cca70102-907f-4b04-9ff4-3d260872377e",
   "metadata": {},
   "outputs": [],
   "source": [
    "income_counts = df[\"Income_Category\"].value_counts()\n",
    "income_counts"
   ]
  },
  {
   "cell_type": "code",
   "execution_count": null,
   "id": "c2646bae-4fb9-4680-b17e-f61dc15addfa",
   "metadata": {},
   "outputs": [],
   "source": [
    "plt.figure(figsize=(12,6))\n",
    "sns.barplot(x=income_counts.index, y= income_counts.values, palette=\"viridis\")\n",
    "plt.title(\"Gelir Kategorisi Dağılımı\")\n",
    "plt.xlabel(\"Gelir Kategorisi\")\n",
    "plt.ylabel(\"Müşteri Sayısı\")\n",
    "plt.xticks(rotation=45)\n",
    "plt.show()"
   ]
  },
  {
   "cell_type": "markdown",
   "id": "2b62d22d-4275-4158-ad22-ef73e4595ed9",
   "metadata": {},
   "source": [
    "**MAVİ KART SAHİPLERİNİN SAYISI VE YILLIK GELİRİ $40 K'IN ALTINDA OLANLARIN YÜZDESİ** "
   ]
  },
  {
   "cell_type": "code",
   "execution_count": null,
   "id": "ad2124ec-6765-4297-a1e4-08f79d249933",
   "metadata": {},
   "outputs": [],
   "source": [
    "df[\"Income_Category\"].value_counts()"
   ]
  },
  {
   "cell_type": "code",
   "execution_count": null,
   "id": "41590c49-164c-4e23-8fad-7adfeba89613",
   "metadata": {},
   "outputs": [],
   "source": [
    "df[\"Card_Category\"].value_counts()"
   ]
  },
  {
   "cell_type": "code",
   "execution_count": null,
   "id": "0e1e6163-a507-4f5b-950d-badaec5adff3",
   "metadata": {},
   "outputs": [],
   "source": [
    "(df[\"Card_Category\"] == \"Blue\").value_counts()"
   ]
  },
  {
   "cell_type": "markdown",
   "id": "d98fe271-f6cc-4854-aabb-0131f1d608b6",
   "metadata": {},
   "source": [
    "**Mavi kart sahiplerini ve yıllık geliri $40 altında olanların yüzdesini for döngüsü kullanarak bulmak**"
   ]
  },
  {
   "cell_type": "code",
   "execution_count": null,
   "id": "97f60f42-825e-46e9-b6d6-6be37e8d2aca",
   "metadata": {},
   "outputs": [],
   "source": [
    "mavi_kart_sayisi = 0\n",
    "gelir_40k_altında_sayisi = 0\n",
    "toplam_kayıt_sayisi =len(df)\n",
    "\n",
    "for index,row in df.iterrows():\n",
    "    if row[\"Card_Category\"] == \"Blue\":\n",
    "      mavi_kart_sayisi += 1  \n",
    "    if row[\"Income_Category\"] == \"Less than $40K\":\n",
    "        gelir_40k_altında_sayisi += 1\n",
    "\n",
    "yuzde = (gelir_40k_altında_sayisi / mavi_kart_sayisi) * 100 \n",
    "\n",
    "print(\"Mavi Kart Sahiplerinin Sayısı:\", mavi_kart_sayisi)\n",
    "print(\"Geliri $40 Altında Olanların Sayısı\",gelir_40k_altında_sayisi)\n",
    "print(\"Yıllık Geliri 40.000 Doların Altında Olanların Yüzdesi:\", yuzde)"
   ]
  },
  {
   "cell_type": "markdown",
   "id": "7546cb6c-f2a6-4054-bec8-8bbe2122660c",
   "metadata": {},
   "source": [
    "**Mavi kart sahiplerini ve yıllık geliri $40 altında olanların yüzdesini normal şekilde bulmak**"
   ]
  },
  {
   "cell_type": "code",
   "execution_count": null,
   "id": "e200d4e8-7c0a-4244-8f6d-629f599498cc",
   "metadata": {},
   "outputs": [],
   "source": [
    "# Geliri 40.000 Doların altında olanların sayısını bulma\n",
    "gelir_40k_altinda_sayisi = df[df['Income_Category'] == \"Less than $40K\"].shape[0]\n",
    "\n",
    "# Mavi Kart sahiplerinin sayısını bulma\n",
    "mavi_kart_sayisi = df[df['Card_Category'] == 'Blue'].shape[0]\n",
    "\n",
    "# Yüzde hesaplama\n",
    "yuzde = (gelir_40k_altinda_sayisi / mavi_kart_sayisi) * 100 if mavi_kart_sayisi != 0 else 0\n",
    "\n",
    "print(\"Mavi Kart Sahiplerinin Sayısı:\", mavi_kart_sayisi)\n",
    "print(\"Geliri 40.000 Doların Altında Olanların Sayısı:\", gelir_40k_altinda_sayisi)\n",
    "print(\"Yıllık Geliri 40.000 Doların Altında Olanların Yüzdesi:\", yuzde)"
   ]
  },
  {
   "cell_type": "code",
   "execution_count": null,
   "id": "61e068ef-db7d-4d92-81a2-b40e6438f5f6",
   "metadata": {},
   "outputs": [],
   "source": [
    "df[\"Income_Category\"].unique()"
   ]
  },
  {
   "cell_type": "code",
   "execution_count": null,
   "id": "d60e29b9-c4a0-4477-b7c6-b1490d655d2c",
   "metadata": {},
   "outputs": [],
   "source": [
    "(df[\"Card_Category\"] == \"Gold\").value_counts()"
   ]
  },
  {
   "cell_type": "markdown",
   "id": "461821b6-9e49-4e5e-bc0e-f8f9aca2b46c",
   "metadata": {},
   "source": [
    "**En yüksek kayıp oranı $40-$60 gelir aralığında Altın Kart \n",
    "sahiplerinde gözlemlendi\r\n",
    "Kayıp oranlarını hesaplay**ın"
   ]
  },
  {
   "cell_type": "code",
   "execution_count": null,
   "id": "eec02507-8e74-4b66-a34c-df1d2ca94cd7",
   "metadata": {},
   "outputs": [],
   "source": [
    "filtered_df = df[(df[\"Income_Category\"] == '$40K - $60K') & (df[\"Card_Category\"] == 'Gold')]\n",
    "filtered_df"
   ]
  },
  {
   "cell_type": "code",
   "execution_count": null,
   "id": "26324adc-918d-49ee-b3ba-65f59765b233",
   "metadata": {},
   "outputs": [],
   "source": [
    "filtered_df = df[(df[\"Income_Category\"] == '$80K - $120K') & (df['Card_Category'] == 'Gold') & (df[\"Attrition_Flag\"]==\"Attrited Customer\")]\n",
    "filtered_df"
   ]
  },
  {
   "cell_type": "code",
   "execution_count": null,
   "id": "78b5439f-6d9e-4752-b7bf-ba49df3c06b0",
   "metadata": {},
   "outputs": [],
   "source": [
    "filtered_df[\"Attrition_Flag\"].value_counts()"
   ]
  },
  {
   "cell_type": "code",
   "execution_count": null,
   "id": "2bc4b2b7-8f2a-4e6e-ba7b-ddf1eeba59d1",
   "metadata": {},
   "outputs": [],
   "source": [
    "# 1. Yıllık geliri $80K - $120K arasında olan müşterilerin sayısını belirleyelim.\n",
    "total_customers_in_income_range = df[df[\"Income_Category\"] == '$80K - $120K'].shape[0]\n",
    "\n",
    "# 2. Yıllık geliri $80K - $120K arasında olup \"Attrited Customer\" kategorisinde olan müşterilerin sayısını belirleyin\n",
    "attrited_customers_in_income_range = df[(df[\"Income_Category\"] == '$80K - $120K') & (df[\"Attrition_Flag\"] == \"Attrited Customer\")].shape[0]\n",
    "\n",
    "# 3. Kayıp müşteri oranını hesaplayın\n",
    "attrition_rate = (attrited_customers_in_income_range / total_customers_in_income_range) * 100\n",
    "\n",
    "# Sonucu yazdıralım\n",
    "print(f\"Yıllık geliri $80K - $120K arasında olan müşteriler arasında kayıp müşteri oranı: {attrition_rate:.2f}%\")  # :.2f ondalıktan sonra sadece 2 sayı alır"
   ]
  },
  {
   "cell_type": "markdown",
   "id": "cf097bdb-c226-4b42-9ad8-58dab848b64c",
   "metadata": {},
   "source": [
    "**Kayıp oranı yüksek olan müşteriler genellikle son 12 ayda banka ile daha\r\n",
    "fazla iletişim kurmu şKayıp oranı ve banka ile iletişim sayısını bulunuz.**"
   ]
  },
  {
   "cell_type": "code",
   "execution_count": null,
   "id": "8de85353-1723-4cda-ae17-1d2f896e05f9",
   "metadata": {},
   "outputs": [],
   "source": [
    "# 1. Kayıp müşterilerin sayısını ve toplam müşteri sayısını belirleyelim\n",
    "\n",
    "total_customers = len(df)  # tüm müşterilerin satır sayısını gösterir doğal olarak bütün müşterileri döndürür..\n",
    "\n",
    "attrited_customers = df[df[\"Attrition_Flag\"] == \"Attrited Customer\"].shape[0] #burada ise ayrılmış olan müşterileri döndürür..\n",
    "\n",
    "# 2. Kayıp müşteri oranını hesaplayalım\n",
    "\n",
    "attrition_rate = (attrited_customers / total_customers)*100\n",
    "\n",
    "# 3. Kayıp müşterilerin ve mevcut müşterilerin son 12 ayda banka ile iletişim sayısını ortalama olarak hesaplayalım\n",
    "\n",
    "average_contacts_attrited = df[df[\"Attrition_Flag\"]==\"Attrited Customer\"][\"Contacts_Count_12_mon\"].mean()\n",
    "average_contacts_existing = df[df[\"Attrition_Flag\"]==\"Existing Customer\"][\"Contacts_Count_12_mon\"].mean()\n",
    "\n",
    "print(f\"Kayıp müşteri oranı: {attrition_rate:.2f}%\")\n",
    "print(f\"Kayıp müşterilerin son 12 ayda ortalama banka ile iletişim sayısı: {average_contacts_attrited:.2f}\")\n",
    "print(f\"Mevcut müşterilerin son 12 ayda ortalama banka ile iletişim sayısı: {average_contacts_existing:.2f}\")\n",
    "\n",
    "# BURDA :.2f ondalıktan sonra kac basamak olacagını belirtmek için kullanılır.."
   ]
  },
  {
   "cell_type": "code",
   "execution_count": null,
   "id": "74f5d45c-5b9a-439b-8198-b54129143d6d",
   "metadata": {},
   "outputs": [],
   "source": [
    "filtered_df = df[df[\"Income_Category\"] == '$80K - $120K']\n",
    "card_counts = filtered_df.groupby('Card_Category').size().reset_index(name='User_Count')\n",
    "card_counts"
   ]
  },
  {
   "cell_type": "code",
   "execution_count": null,
   "id": "b8cef6ba-7028-46af-af27-80124b7af211",
   "metadata": {},
   "outputs": [],
   "source": [
    "filtered_df = df[df[\"Income_Category\"] == '$60K - $80K']\n",
    "card_counts = filtered_df.groupby('Card_Category').size().reset_index(name='User_Count')\n",
    "card_counts"
   ]
  },
  {
   "cell_type": "code",
   "execution_count": null,
   "id": "c6383aba-9639-4d27-9dea-b684f336b687",
   "metadata": {},
   "outputs": [],
   "source": [
    "filtered_df = df[df[\"Income_Category\"] == '$120K +']\n",
    "card_counts = filtered_df.groupby('Card_Category').size().reset_index(name='User_Count')\n",
    "card_counts"
   ]
  },
  {
   "cell_type": "code",
   "execution_count": null,
   "id": "cd1677d0-36ee-40dc-b0d6-8025413afb5e",
   "metadata": {},
   "outputs": [],
   "source": [
    "filtered_df = df[df[\"Income_Category\"] == '$40K - $60K']\n",
    "card_counts = filtered_df.groupby('Card_Category').size().reset_index(name='User_Count')\n",
    "card_counts"
   ]
  },
  {
   "cell_type": "markdown",
   "id": "c3a840c9-2cb7-4f23-8457-0d71c7ac7afb",
   "metadata": {},
   "source": [
    "# ÖNERİLERİN UYGULANMASI ÖZEL İNDİRİMLER VE PROMOSYONLAR"
   ]
  },
  {
   "cell_type": "code",
   "execution_count": null,
   "id": "dcc84022-9910-4778-acbb-fb2f5645e300",
   "metadata": {},
   "outputs": [],
   "source": [
    "data = {'Kart_Tipi': ['Mavi Kart', 'Mavi Kart', 'Altın Kart', 'Altın Kart', 'Eski Müşteri'],\n",
    "        'Gelir': ['$60-$80', '$80-$120', '$60-$80', '$80-$120', 'Kayıp'],\n",
    "        'Risk': ['Düşük', 'Düşük', 'Düşük', 'Yüksek', 'Yüksek']}\n",
    "\n",
    "df = pd.DataFrame(data)\n",
    "\n",
    "# Yeni sütunlar ekleyerek promosyonları hesaplayalım\n",
    "df['Mavi_Kart_Indirim'] = df.apply(lambda row: 0.2 if 'Mavi Kart' in row['Kart_Tipi'] and '$60-$80' in row['Gelir'] else (0.1 if 'Mavi Kart' in row['Kart_Tipi'] and '$80-$120' in row['Gelir'] else 0), axis=1)\n",
    "df['Altın_Kart_Indirim'] = df.apply(lambda row: 0.1 if 'Altın Kart' in row['Kart_Tipi'] and '$60-$80' in row['Gelir'] else (0.05 if 'Altın Kart' in row['Kart_Tipi'] and '$80-$120' in row['Gelir'] else 0), axis=1)\n",
    "df['Eski_Müşteri_Promosyonu'] = df.apply(lambda row: 'Tatil Paketi' if 'Eski Müşteri' in row['Kart_Tipi'] else '', axis=1)\n",
    "\n",
    "# Yeni DataFrame'i oluşturarak CSV dosyasına yazalım\n",
    "ozel_promosyon = df[['Kart_Tipi', 'Gelir', 'Risk', 'Mavi_Kart_Indirim', 'Altın_Kart_Indirim', 'Eski_Müşteri_Promosyonu']]\n",
    "ozel_promosyon.to_csv('ozel_promosyonlar.csv', index=False)\n",
    "\n",
    "pd.read_csv(\"ozel_promosyonlar.csv\")"
   ]
  },
  {
   "cell_type": "code",
   "execution_count": null,
   "id": "bd0f4212-f363-4cf0-be5b-b7b76ca9a45d",
   "metadata": {},
   "outputs": [],
   "source": []
  }
 ],
 "metadata": {
  "kernelspec": {
   "display_name": "Python 3 (ipykernel)",
   "language": "python",
   "name": "python3"
  },
  "language_info": {
   "codemirror_mode": {
    "name": "ipython",
    "version": 3
   },
   "file_extension": ".py",
   "mimetype": "text/x-python",
   "name": "python",
   "nbconvert_exporter": "python",
   "pygments_lexer": "ipython3",
   "version": "3.11.7"
  }
 },
 "nbformat": 4,
 "nbformat_minor": 5
}
